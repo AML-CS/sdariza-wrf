{
 "cells": [
  {
   "cell_type": "code",
   "execution_count": null,
   "id": "e2a2827d",
   "metadata": {},
   "outputs": [],
   "source": [
    "import numpy, Nio, Ngl, os, sys\n",
    "from wrf import getvar, get_pyngl, interplevel\n",
    "\n",
    "filename = \"../../workspace/wrf-test/wrf_output/wrfout_d01_2022-04-22_00:00:00\"\n",
    "if(not os.path.exists(filename)):\n",
    "    print(\"You do not have the necessary '{}' file to run this example.\".format(filename))\n",
    "    print(\"You need to supply your own WRF output file\")\n",
    "    print(\"WRF output files usually have names like '{}'\".format(filename))\n",
    "    sys.exit()\n",
    "\n",
    "#---Read data\n",
    "a  = Nio.open_file(filename+\".nc\")  # Must add \".nc\" suffix for Nio.open_file\n",
    "tc = getvar(a,\"va\",timeidx=-1)\n",
    "z = 1000\n",
    "height = getvar(a, \"height\", timeidx=-1)\n",
    "T = interplevel(tc, height, z)\n",
    "tc = T\n",
    "#---Open file for graphics\n",
    "wks_type = \"png\"\n",
    "wks = Ngl.open_wks(wks_type,\"va\")\n",
    "\n",
    "# Set some map options based on information in WRF output file\n",
    "res = get_pyngl(tc)\n",
    "res.tfDoNDCOverlay    = True          # required for native projection\n",
    "\n",
    "#---Contour options\n",
    "res.cnFillOn          = True          # turn on contour fill\n",
    "res.cnLinesOn         = False         # turn off contour lines\n",
    "res.cnLineLabelsOn    = False         # turn off line labels\n",
    "res.cnFillMode        = \"RasterFill\"        # These two resources\n",
    "res.trGridType        = \"TriangularMesh\"    # can speed up plotting.\n",
    "res.cnFillPalette     = \"ncl_default\"\n",
    "\n",
    "res.lbOrientation      = \"horizontal\"   # default is vertical\n",
    "res.pmLabelBarHeightF  = 0.08\n",
    "res.pmLabelBarWidthF   = 0.65\n",
    "res.lbTitleString      = \"%s (%s)\" % ('vwind',tc.units)\n",
    "res.lbTitleFontHeightF = 0.015\n",
    "res.lbLabelFontHeightF = 0.015\n",
    "\n",
    "res.tiMainString      = str(tc['Time'].data)\n",
    "res.tiMainFont        = \"helvetica-bold\"\n",
    "res.tiMainFontHeightF = 0.02\n",
    "\n",
    "plot = Ngl.contour_map(wks,tc,res)\n",
    "\n"
   ]
  },
  {
   "cell_type": "code",
   "execution_count": null,
   "id": "79b179e6",
   "metadata": {},
   "outputs": [],
   "source": [
    "tc"
   ]
  },
  {
   "cell_type": "code",
   "execution_count": null,
   "id": "c62714bb",
   "metadata": {},
   "outputs": [],
   "source": [
    "Ngl.end()"
   ]
  }
 ],
 "metadata": {
  "kernelspec": {
   "display_name": "Python 3 (ipykernel)",
   "language": "python",
   "name": "python3"
  },
  "language_info": {
   "codemirror_mode": {
    "name": "ipython",
    "version": 3
   },
   "file_extension": ".py",
   "mimetype": "text/x-python",
   "name": "python",
   "nbconvert_exporter": "python",
   "pygments_lexer": "ipython3",
   "version": "3.10.4"
  }
 },
 "nbformat": 4,
 "nbformat_minor": 5
}
