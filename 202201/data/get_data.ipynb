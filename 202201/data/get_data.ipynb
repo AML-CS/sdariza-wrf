{
 "cells": [
  {
   "cell_type": "code",
   "execution_count": 3,
   "metadata": {},
   "outputs": [],
   "source": [
    "import os, glob"
   ]
  },
  {
   "cell_type": "code",
   "execution_count": 4,
   "metadata": {},
   "outputs": [],
   "source": [
    "def downloadNcData(): \n",
    "    for f in glob.glob('*.nc'):\n",
    "        os.remove(f)\n",
    "    !wget 'https://downloads.psl.noaa.gov/Datasets/ncep.reanalysis2/pressure/air.2022.nc'\n",
    "    !wget 'https://downloads.psl.noaa.gov/Datasets/ncep.reanalysis2/pressure/hgt.2022.nc'\n",
    "    !wget 'https://downloads.psl.noaa.gov/Datasets/ncep.reanalysis2/pressure/rhum.2022.nc'\n",
    "    !wget 'https://downloads.psl.noaa.gov/Datasets/ncep.reanalysis2/pressure/omega.2022.nc'\n",
    "    !wget 'https://downloads.psl.noaa.gov/Datasets/ncep.reanalysis2/pressure/uwnd.2022.nc'\n",
    "    !wget 'https://downloads.psl.noaa.gov/Datasets/ncep.reanalysis2/pressure/vwnd.2022.nc'\n",
    "    print('Data downloaded 100%')"
   ]
  },
  {
   "cell_type": "code",
   "execution_count": 5,
   "metadata": {},
   "outputs": [
    {
     "name": "stdout",
     "output_type": "stream",
     "text": [
      "--2022-05-05 01:00:46--  https://downloads.psl.noaa.gov/Datasets/ncep.reanalysis2/pressure/air.2022.nc\n",
      "Resolving downloads.psl.noaa.gov (downloads.psl.noaa.gov)... 140.172.38.86\n",
      "Connecting to downloads.psl.noaa.gov (downloads.psl.noaa.gov)|140.172.38.86|:443... connected.\n",
      "HTTP request sent, awaiting response... 200 OK\n",
      "Length: 104690697 (100M) [application/x-netcdf]\n",
      "Saving to: ‘air.2022.nc’\n",
      "\n",
      "100%[======================================>] 104,690,697 13.4MB/s   in 8.3s   \n",
      "\n",
      "2022-05-05 01:00:55 (12.1 MB/s) - ‘air.2022.nc’ saved [104690697/104690697]\n",
      "\n",
      "--2022-05-05 01:00:55--  https://downloads.psl.noaa.gov/Datasets/ncep.reanalysis2/pressure/hgt.2022.nc\n",
      "Resolving downloads.psl.noaa.gov (downloads.psl.noaa.gov)... 140.172.38.86\n",
      "Connecting to downloads.psl.noaa.gov (downloads.psl.noaa.gov)|140.172.38.86|:443... connected.\n",
      "HTTP request sent, awaiting response... 200 OK\n",
      "Length: 86737186 (83M) [application/x-netcdf]\n",
      "Saving to: ‘hgt.2022.nc’\n",
      "\n",
      "100%[======================================>] 86,737,186  9.64MB/s   in 8.7s   \n",
      "\n",
      "2022-05-05 01:01:05 (9.54 MB/s) - ‘hgt.2022.nc’ saved [86737186/86737186]\n",
      "\n",
      "--2022-05-05 01:01:05--  https://downloads.psl.noaa.gov/Datasets/ncep.reanalysis2/pressure/rhum.2022.nc\n",
      "Resolving downloads.psl.noaa.gov (downloads.psl.noaa.gov)... 140.172.38.86\n",
      "Connecting to downloads.psl.noaa.gov (downloads.psl.noaa.gov)|140.172.38.86|:443... connected.\n",
      "HTTP request sent, awaiting response... 200 OK\n",
      "Length: 59850953 (57M) [application/x-netcdf]\n",
      "Saving to: ‘rhum.2022.nc’\n",
      "\n",
      "100%[======================================>] 59,850,953  12.1MB/s   in 5.1s   \n",
      "\n",
      "2022-05-05 01:01:11 (11.1 MB/s) - ‘rhum.2022.nc’ saved [59850953/59850953]\n",
      "\n",
      "--2022-05-05 01:01:11--  https://downloads.psl.noaa.gov/Datasets/ncep.reanalysis2/pressure/omega.2022.nc\n",
      "Resolving downloads.psl.noaa.gov (downloads.psl.noaa.gov)... 140.172.38.86\n",
      "Connecting to downloads.psl.noaa.gov (downloads.psl.noaa.gov)|140.172.38.86|:443... connected.\n",
      "HTTP request sent, awaiting response... 200 OK\n",
      "Length: 208528019 (199M) [application/x-netcdf]\n",
      "Saving to: ‘omega.2022.nc’\n",
      "\n",
      "100%[======================================>] 208,528,019 14.0MB/s   in 16s    \n",
      "\n",
      "2022-05-05 01:01:28 (12.7 MB/s) - ‘omega.2022.nc’ saved [208528019/208528019]\n",
      "\n",
      "--2022-05-05 01:01:28--  https://downloads.psl.noaa.gov/Datasets/ncep.reanalysis2/pressure/uwnd.2022.nc\n",
      "Resolving downloads.psl.noaa.gov (downloads.psl.noaa.gov)... 140.172.38.86\n",
      "Connecting to downloads.psl.noaa.gov (downloads.psl.noaa.gov)|140.172.38.86|:443... connected.\n",
      "HTTP request sent, awaiting response... 200 OK\n",
      "Length: 187044803 (178M) [application/x-netcdf]\n",
      "Saving to: ‘uwnd.2022.nc’\n",
      "\n",
      "100%[======================================>] 187,044,803 14.2MB/s   in 13s    \n",
      "\n",
      "2022-05-05 01:01:42 (13.3 MB/s) - ‘uwnd.2022.nc’ saved [187044803/187044803]\n",
      "\n",
      "--2022-05-05 01:01:42--  https://downloads.psl.noaa.gov/Datasets/ncep.reanalysis2/pressure/vwnd.2022.nc\n",
      "Resolving downloads.psl.noaa.gov (downloads.psl.noaa.gov)... 140.172.38.86\n",
      "Connecting to downloads.psl.noaa.gov (downloads.psl.noaa.gov)|140.172.38.86|:443... connected.\n",
      "HTTP request sent, awaiting response... 200 OK\n",
      "Length: 190833689 (182M) [application/x-netcdf]\n",
      "Saving to: ‘vwnd.2022.nc’\n",
      "\n",
      "100%[======================================>] 190,833,689 16.3MB/s   in 11s    \n",
      "\n",
      "2022-05-05 01:01:54 (16.9 MB/s) - ‘vwnd.2022.nc’ saved [190833689/190833689]\n",
      "\n",
      "Data downloaded 100%\n"
     ]
    }
   ],
   "source": [
    "downloadNcData()"
   ]
  },
  {
   "cell_type": "code",
   "execution_count": null,
   "metadata": {},
   "outputs": [],
   "source": []
  }
 ],
 "metadata": {
  "kernelspec": {
   "display_name": "Python 3 (ipykernel)",
   "language": "python",
   "name": "python3"
  },
  "language_info": {
   "codemirror_mode": {
    "name": "ipython",
    "version": 3
   },
   "file_extension": ".py",
   "mimetype": "text/x-python",
   "name": "python",
   "nbconvert_exporter": "python",
   "pygments_lexer": "ipython3",
   "version": "3.10.4"
  }
 },
 "nbformat": 4,
 "nbformat_minor": 4
}
