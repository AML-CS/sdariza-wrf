{
 "cells": [
  {
   "cell_type": "code",
   "execution_count": 2,
   "metadata": {},
   "outputs": [],
   "source": [
    "import os, glob"
   ]
  },
  {
   "cell_type": "code",
   "execution_count": 6,
   "metadata": {},
   "outputs": [],
   "source": [
    "def downloadNcData(): \n",
    "    for f in glob.glob('*.nc'):\n",
    "        os.remove(f)\n",
    "    !wget 'https://downloads.psl.noaa.gov/Datasets/ncep.reanalysis2/pressure/air.2022.nc'\n",
    "    !wget 'https://downloads.psl.noaa.gov/Datasets/ncep.reanalysis2/pressure/hgt.2022.nc'\n",
    "    !wget 'https://downloads.psl.noaa.gov/Datasets/ncep.reanalysis2/pressure/rhum.2022.nc'\n",
    "    !wget 'https://downloads.psl.noaa.gov/Datasets/ncep.reanalysis2/pressure/omega.2022.nc'\n",
    "    !wget 'https://downloads.psl.noaa.gov/Datasets/ncep.reanalysis2/pressure/uwnd.2022.nc'\n",
    "    !wget 'https://downloads.psl.noaa.gov/Datasets/ncep.reanalysis2/pressure/vwnd.2022.nc'\n",
    "    print('Data downloaded 100%')"
   ]
  },
  {
   "cell_type": "code",
   "execution_count": 7,
   "metadata": {},
   "outputs": [
    {
     "name": "stdout",
     "output_type": "stream",
     "text": [
      "--2022-04-12 12:09:18--  https://downloads.psl.noaa.gov/Datasets/ncep.reanalysis2/pressure/air.2022.nc\n",
      "Resolving downloads.psl.noaa.gov (downloads.psl.noaa.gov)... 140.172.38.86\n",
      "Connecting to downloads.psl.noaa.gov (downloads.psl.noaa.gov)|140.172.38.86|:443... connected.\n",
      "HTTP request sent, awaiting response... 200 OK\n",
      "Length: 78614398 (75M) [application/x-netcdf]\n",
      "Saving to: ‘air.2022.nc’\n",
      "\n",
      "100%[======================================>] 78,614,398  13.0MB/s   in 6.3s   \n",
      "\n",
      "2022-04-12 12:09:25 (12.0 MB/s) - ‘air.2022.nc’ saved [78614398/78614398]\n",
      "\n",
      "--2022-04-12 12:09:25--  https://downloads.psl.noaa.gov/Datasets/ncep.reanalysis2/pressure/hgt.2022.nc\n",
      "Resolving downloads.psl.noaa.gov (downloads.psl.noaa.gov)... 140.172.38.86\n",
      "Connecting to downloads.psl.noaa.gov (downloads.psl.noaa.gov)|140.172.38.86|:443... connected.\n",
      "HTTP request sent, awaiting response... 200 OK\n",
      "Length: 65171676 (62M) [application/x-netcdf]\n",
      "Saving to: ‘hgt.2022.nc’\n",
      "\n",
      "100%[======================================>] 65,171,676  16.4MB/s   in 4.4s   \n",
      "\n",
      "2022-04-12 12:09:30 (14.2 MB/s) - ‘hgt.2022.nc’ saved [65171676/65171676]\n",
      "\n",
      "--2022-04-12 12:09:30--  https://downloads.psl.noaa.gov/Datasets/ncep.reanalysis2/pressure/rhum.2022.nc\n",
      "Resolving downloads.psl.noaa.gov (downloads.psl.noaa.gov)... 140.172.38.86\n",
      "Connecting to downloads.psl.noaa.gov (downloads.psl.noaa.gov)|140.172.38.86|:443... connected.\n",
      "HTTP request sent, awaiting response... 200 OK\n",
      "Length: 45059417 (43M) [application/x-netcdf]\n",
      "Saving to: ‘rhum.2022.nc’\n",
      "\n",
      "100%[======================================>] 45,059,417  11.6MB/s   in 3.7s   \n",
      "\n",
      "2022-04-12 12:09:34 (11.6 MB/s) - ‘rhum.2022.nc’ saved [45059417/45059417]\n",
      "\n",
      "--2022-04-12 12:09:34--  https://downloads.psl.noaa.gov/Datasets/ncep.reanalysis2/pressure/omega.2022.nc\n",
      "Resolving downloads.psl.noaa.gov (downloads.psl.noaa.gov)... 140.172.38.86\n",
      "Connecting to downloads.psl.noaa.gov (downloads.psl.noaa.gov)|140.172.38.86|:443... connected.\n",
      "HTTP request sent, awaiting response... 200 OK\n",
      "Length: 156757056 (149M) [application/x-netcdf]\n",
      "Saving to: ‘omega.2022.nc’\n",
      "\n",
      "100%[======================================>] 156,757,056 11.1MB/s   in 13s    \n",
      "\n",
      "2022-04-12 12:09:48 (11.4 MB/s) - ‘omega.2022.nc’ saved [156757056/156757056]\n",
      "\n",
      "--2022-04-12 12:09:48--  https://downloads.psl.noaa.gov/Datasets/ncep.reanalysis2/pressure/uwnd.2022.nc\n",
      "Resolving downloads.psl.noaa.gov (downloads.psl.noaa.gov)... 140.172.38.86\n",
      "Connecting to downloads.psl.noaa.gov (downloads.psl.noaa.gov)|140.172.38.86|:443... connected.\n",
      "HTTP request sent, awaiting response... 200 OK\n",
      "Length: 140382664 (134M) [application/x-netcdf]\n",
      "Saving to: ‘uwnd.2022.nc’\n",
      "\n",
      "100%[======================================>] 140,382,664 10.7MB/s   in 13s    \n",
      "\n",
      "2022-04-12 12:10:02 (10.5 MB/s) - ‘uwnd.2022.nc’ saved [140382664/140382664]\n",
      "\n",
      "--2022-04-12 12:10:02--  https://downloads.psl.noaa.gov/Datasets/ncep.reanalysis2/pressure/vwnd.2022.nc\n",
      "Resolving downloads.psl.noaa.gov (downloads.psl.noaa.gov)... 140.172.38.86\n",
      "Connecting to downloads.psl.noaa.gov (downloads.psl.noaa.gov)|140.172.38.86|:443... connected.\n",
      "HTTP request sent, awaiting response... 200 OK\n",
      "Length: 143216665 (137M) [application/x-netcdf]\n",
      "Saving to: ‘vwnd.2022.nc’\n",
      "\n",
      "100%[======================================>] 143,216,665 11.1MB/s   in 13s    \n",
      "\n",
      "2022-04-12 12:10:16 (10.6 MB/s) - ‘vwnd.2022.nc’ saved [143216665/143216665]\n",
      "\n",
      "Data downloaded 100%\n"
     ]
    }
   ],
   "source": [
    "downloadNcData()"
   ]
  },
  {
   "cell_type": "code",
   "execution_count": null,
   "metadata": {},
   "outputs": [],
   "source": []
  }
 ],
 "metadata": {
  "kernelspec": {
   "display_name": "Python 3 (ipykernel)",
   "language": "python",
   "name": "python3"
  },
  "language_info": {
   "codemirror_mode": {
    "name": "ipython",
    "version": 3
   },
   "file_extension": ".py",
   "mimetype": "text/x-python",
   "name": "python",
   "nbconvert_exporter": "python",
   "pygments_lexer": "ipython3",
   "version": "3.10.4"
  }
 },
 "nbformat": 4,
 "nbformat_minor": 4
}
