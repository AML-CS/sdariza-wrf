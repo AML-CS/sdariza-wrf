{
 "cells": [
  {
   "cell_type": "code",
   "execution_count": 1,
   "id": "c0ff58f9",
   "metadata": {},
   "outputs": [],
   "source": [
    "from cdo import *"
   ]
  },
  {
   "cell_type": "code",
   "execution_count": 2,
   "id": "de98b131",
   "metadata": {},
   "outputs": [],
   "source": [
    "cdo = Cdo()"
   ]
  },
  {
   "cell_type": "code",
   "execution_count": 3,
   "id": "04405c3c",
   "metadata": {},
   "outputs": [],
   "source": [
    "nc_files = glob.glob('../data/*.nc')"
   ]
  },
  {
   "cell_type": "code",
   "execution_count": 4,
   "id": "e662cb30",
   "metadata": {},
   "outputs": [
    {
     "data": {
      "text/plain": [
       "['../data/air.2022.nc',\n",
       " '../data/hgt.2022.nc',\n",
       " '../data/rhum.2022.nc',\n",
       " '../data/omega.2022.nc',\n",
       " '../data/uwnd.2022.nc',\n",
       " '../data/vwnd.2022.nc']"
      ]
     },
     "execution_count": 4,
     "metadata": {},
     "output_type": "execute_result"
    }
   ],
   "source": [
    "nc_files"
   ]
  },
  {
   "cell_type": "code",
   "execution_count": 5,
   "id": "4a4182e4",
   "metadata": {},
   "outputs": [
    {
     "data": {
      "text/plain": [
       "'all.nc'"
      ]
     },
     "execution_count": 5,
     "metadata": {},
     "output_type": "execute_result"
    }
   ],
   "source": [
    "cdo.merge(input=nc_files, output='all.nc')"
   ]
  },
  {
   "cell_type": "code",
   "execution_count": null,
   "id": "56516f72",
   "metadata": {},
   "outputs": [],
   "source": []
  }
 ],
 "metadata": {
  "kernelspec": {
   "display_name": "Python 3 (ipykernel)",
   "language": "python",
   "name": "python3"
  },
  "language_info": {
   "codemirror_mode": {
    "name": "ipython",
    "version": 3
   },
   "file_extension": ".py",
   "mimetype": "text/x-python",
   "name": "python",
   "nbconvert_exporter": "python",
   "pygments_lexer": "ipython3",
   "version": "3.10.4"
  }
 },
 "nbformat": 4,
 "nbformat_minor": 5
}
