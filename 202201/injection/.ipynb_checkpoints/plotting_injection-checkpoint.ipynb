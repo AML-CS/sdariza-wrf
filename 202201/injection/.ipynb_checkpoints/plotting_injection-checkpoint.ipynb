{
 "cells": [
  {
   "cell_type": "code",
   "execution_count": 1,
   "id": "6e720d7b",
   "metadata": {},
   "outputs": [],
   "source": [
    "import netCDF4 as nc\n",
    "from cartopy import crs as ccrs\n",
    "from matplotlib import pyplot as plt\n",
    "import pygrib"
   ]
  },
  {
   "cell_type": "code",
   "execution_count": 2,
   "id": "0f655afe",
   "metadata": {},
   "outputs": [],
   "source": [
    "nc_data = nc.Dataset('../Interpolation/allDataInterpolated.nc')"
   ]
  },
  {
   "cell_type": "code",
   "execution_count": 3,
   "id": "e227e3b1",
   "metadata": {},
   "outputs": [],
   "source": [
    "vars_nc = []"
   ]
  },
  {
   "cell_type": "code",
   "execution_count": 4,
   "id": "2272dfb8",
   "metadata": {},
   "outputs": [],
   "source": [
    "for v in nc_data.variables:\n",
    "    if v != 'time' and v != 'level' and v != 'lat' and v != 'lon':\n",
    "        vars_nc.append(v)"
   ]
  },
  {
   "cell_type": "code",
   "execution_count": 5,
   "id": "913c35a9",
   "metadata": {},
   "outputs": [
    {
     "data": {
      "text/plain": [
       "['air', 'uwnd', 'hgt', 'vwnd', 'omega', 'rhum']"
      ]
     },
     "execution_count": 5,
     "metadata": {},
     "output_type": "execute_result"
    }
   ],
   "source": [
    "vars_nc"
   ]
  },
  {
   "cell_type": "code",
   "execution_count": 8,
   "id": "b9e1c579",
   "metadata": {},
   "outputs": [],
   "source": [
    "def grib_var(nc_var):\n",
    "    if nc_var == 'air':\n",
    "        return 'Temperature'\n",
    "    elif nc_var == 'uwnd':\n",
    "        return 'U component of wind'\n",
    "    elif nc_var == 'vwnd':\n",
    "        return 'V component of wind'\n",
    "    elif nc_var == 'rhum':\n",
    "        return 'Relative humidity'\n",
    "    elif nc_var == 'hgt':\n",
    "        return 'Geopotential height'\n",
    "    elif nc_var == 'omega':\n",
    "        return 'Vertical velocity'\n",
    "    else:\n",
    "        return None"
   ]
  },
  {
   "cell_type": "code",
   "execution_count": 11,
   "id": "fe3a81c6",
   "metadata": {},
   "outputs": [
    {
     "name": "stdout",
     "output_type": "stream",
     "text": [
      "None\n"
     ]
    }
   ],
   "source": [
    "print(grib_var('air'))"
   ]
  },
  {
   "cell_type": "code",
   "execution_count": 9,
   "id": "9f4b3c85",
   "metadata": {},
   "outputs": [
    {
     "name": "stdout",
     "output_type": "stream",
     "text": [
      "None\n",
      "None\n",
      "None\n",
      "None\n",
      "None\n",
      "None\n"
     ]
    }
   ],
   "source": [
    "for v in vars_nc:\n",
    "    values_var_nc = nc_data[v][0,0]\n",
    "    lons_nc = nc_data.variables['lon'][:]\n",
    "    lats_nc = nc_data.variables['lat'][:]\n",
    "    base_grbs = pygrib.open('../../workspace/wrfda-test/grib-data/fnl_20220424_00_00.grib2')\n",
    "    for i, grb in enumerate(base_grbs):\n",
    "        if grb.name == grib_var(v) and grb.level == 1000 and grb.typeOfLevel == 'isobaricInhPa':\n",
    "            break\n",
    "    print(grib_var(v))\n",
    "#     base_grib = base_grbs[i+1]\n",
    "#     interp_grbs = pygrib.open('../../workspace/wrfda-injected/fnl_20220424_00_00.grib2')\n",
    "#     interp_grb = interp_grbs[i+1]\n",
    "#     values_var_grb = base_grib.values.data\n",
    "#     lats_grib, lons_grib = base_grib.latlons()\n",
    "#     lons_grib = lons_grib[1,:]\n",
    "#     lats_grib = lats_grib[:,1]\n",
    "#     values_var_interp_grb = interp_grb.values.data\n",
    "#     lats_interp_grb, lons_interp_grb = interp_grb.latlons()\n",
    "#     lons_interp_grb = lons_interp_grb[1,:]\n",
    "#     lats_interp_grb = lats_interp_grb[:,1]\n",
    "#     fig, axes = plt.subplots(ncols=3, figsize=(10,4))\n",
    "#     axes[0].plot(projection=ccrs.PlateCarree())\n",
    "#     z = axes[0].pcolormesh(lons_grib, lats_grib, values_var_grb, cmap = 'viridis')\n",
    "#     axes[2].plot(projection=ccrs.PlateCarree())\n",
    "#     z = axes[2].pcolormesh(lons_nc, lats_nc, values_var_nc, cmap = 'viridis')\n",
    "#     axes[1].plot(projection=ccrs.PlateCarree())\n",
    "#     z = axes[1].pcolormesh(lons_interp_grb, lats_interp_grb, values_var_interp_grb, cmap = 'viridis')\n",
    "#     fig.tight_layout()\n",
    "#     axes[0].set_title('data without injection - grib2')\n",
    "#     axes[1].set_title('nectdf data - nc')\n",
    "#     axes[2].set_title('data with injection - into grib2')\n",
    "#     plt.show()\n",
    "#     base_grbs.close()\n",
    "#     interp_grbs.close()\n"
   ]
  },
  {
   "cell_type": "code",
   "execution_count": null,
   "id": "5503e385",
   "metadata": {},
   "outputs": [],
   "source": [
    "values_var_nc = nc_data['air'][0,0]\n",
    "lons_nc = nc_data.variables['lon'][:]\n",
    "lats_nc = nc_data.variables['lat'][:]"
   ]
  },
  {
   "cell_type": "code",
   "execution_count": null,
   "id": "168433f5",
   "metadata": {},
   "outputs": [],
   "source": [
    "nc_data.variables['level'][:]"
   ]
  },
  {
   "cell_type": "code",
   "execution_count": null,
   "id": "9c09fde2",
   "metadata": {},
   "outputs": [],
   "source": [
    "base_grbs = pygrib.open('../../workspace/wrfda-test/grib-data/fnl_20220424_00_00.grib2')"
   ]
  },
  {
   "cell_type": "code",
   "execution_count": null,
   "id": "f1e87e62",
   "metadata": {},
   "outputs": [],
   "source": [
    "for i, grb in enumerate(base_grbs):\n",
    "    if grb.name == 'Temperature' and grb.level == 1000 and grb.typeOfLevel == 'isobaricInhPa':\n",
    "        break"
   ]
  },
  {
   "cell_type": "code",
   "execution_count": null,
   "id": "522682bd",
   "metadata": {},
   "outputs": [],
   "source": [
    "base_grib = base_grbs[i+1]"
   ]
  },
  {
   "cell_type": "code",
   "execution_count": null,
   "id": "2a22de45",
   "metadata": {},
   "outputs": [],
   "source": [
    "interp_grbs = pygrib.open('../../workspace/wrfda-injected/fnl_20220424_00_00.grib2')"
   ]
  },
  {
   "cell_type": "code",
   "execution_count": null,
   "id": "dd0cdad7",
   "metadata": {},
   "outputs": [],
   "source": [
    "interp_grb = interp_grbs[i+1]"
   ]
  },
  {
   "cell_type": "code",
   "execution_count": null,
   "id": "f9e23ee7",
   "metadata": {},
   "outputs": [],
   "source": [
    "values_var_grb = base_grib.values.data\n",
    "lats_grib, lons_grib = base_grib.latlons()\n",
    "lons_grib = lons_grib[1,:]\n",
    "lats_grib = lats_grib[:,1]"
   ]
  },
  {
   "cell_type": "code",
   "execution_count": null,
   "id": "f4425744",
   "metadata": {},
   "outputs": [],
   "source": [
    "values_var_interp_grb = interp_grb.values.data\n",
    "lats_interp_grb, lons_interp_grb = interp_grb.latlons()\n",
    "lons_interp_grb = lons_interp_grb[1,:]\n",
    "lats_interp_grb = lats_interp_grb[:,1]"
   ]
  },
  {
   "cell_type": "code",
   "execution_count": null,
   "id": "de10919f",
   "metadata": {},
   "outputs": [],
   "source": [
    "fig, axes = plt.subplots(ncols=3, figsize=(10,4))\n",
    "axes[0].plot(projection=ccrs.PlateCarree())\n",
    "z = axes[0].pcolormesh(lons_grib, lats_grib, values_var_grb, cmap = 'viridis')\n",
    "axes[2].plot(projection=ccrs.PlateCarree())\n",
    "z = axes[2].pcolormesh(lons_nc, lats_nc, values_var_nc, cmap = 'viridis')\n",
    "axes[1].plot(projection=ccrs.PlateCarree())\n",
    "z = axes[1].pcolormesh(lons_interp_grb, lats_interp_grb, values_var_interp_grb, cmap = 'viridis')\n",
    "fig.tight_layout()\n",
    "axes[0].set_title('data without injection - grib2')\n",
    "axes[1].set_title('nectdf data - nc')\n",
    "axes[2].set_title('data with injection - into grib2')\n",
    "\n",
    "plt.show()"
   ]
  },
  {
   "cell_type": "code",
   "execution_count": null,
   "id": "fbee7cc8",
   "metadata": {},
   "outputs": [],
   "source": []
  },
  {
   "cell_type": "code",
   "execution_count": null,
   "id": "134870d3",
   "metadata": {},
   "outputs": [],
   "source": [
    "nc_data.close()\n",
    "base_grbs.close()\n",
    "interp_grbs.close()"
   ]
  }
 ],
 "metadata": {
  "kernelspec": {
   "display_name": "Python 3 (ipykernel)",
   "language": "python",
   "name": "python3"
  },
  "language_info": {
   "codemirror_mode": {
    "name": "ipython",
    "version": 3
   },
   "file_extension": ".py",
   "mimetype": "text/x-python",
   "name": "python",
   "nbconvert_exporter": "python",
   "pygments_lexer": "ipython3",
   "version": "3.10.4"
  }
 },
 "nbformat": 4,
 "nbformat_minor": 5
}
