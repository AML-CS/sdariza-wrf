{
 "cells": [
  {
   "cell_type": "code",
   "execution_count": 1,
   "id": "5e62b051",
   "metadata": {},
   "outputs": [],
   "source": [
    "import pygrib\n",
    "import netCDF4 as nc\n",
    "import numpy as np\n",
    "import os, glob\n",
    "import datetime as dt"
   ]
  },
  {
   "cell_type": "code",
   "execution_count": 2,
   "id": "76ea55c4",
   "metadata": {},
   "outputs": [],
   "source": [
    "nc_data = nc.Dataset('../Interpolation/allDataInterpolated.nc')"
   ]
  },
  {
   "cell_type": "code",
   "execution_count": 3,
   "id": "6eef8114",
   "metadata": {},
   "outputs": [
    {
     "data": {
      "text/plain": [
       "['air', 'uwnd', 'hgt', 'vwnd', 'omega', 'rhum']"
      ]
     },
     "execution_count": 3,
     "metadata": {},
     "output_type": "execute_result"
    }
   ],
   "source": [
    "vars_nc = []\n",
    "for v in nc_data.variables:\n",
    "    if v != 'time' and v!= 'level' and v!='lat' and v!= 'lon':\n",
    "        vars_nc.append(v)\n",
    "vars_nc"
   ]
  },
  {
   "cell_type": "code",
   "execution_count": 4,
   "id": "b2ae080b",
   "metadata": {},
   "outputs": [],
   "source": [
    "def netcdf_var(grib_var):\n",
    "    if grib_var == 'Temperature':\n",
    "        return 'air'\n",
    "    elif grib_var == 'U component of wind':\n",
    "        return 'uwnd'\n",
    "    elif grib_var == 'V component of wind':\n",
    "        return 'vwnd'\n",
    "    elif grib_var == 'Relative humidity':\n",
    "        return 'rhum'\n",
    "    elif grib_var == 'Geopotential height':\n",
    "        return 'hgt'\n",
    "    elif grib_var == 'Vertical velocity':\n",
    "        return 'omega'\n",
    "    else:\n",
    "        return None"
   ]
  },
  {
   "cell_type": "code",
   "execution_count": 5,
   "id": "65985a2f",
   "metadata": {},
   "outputs": [
    {
     "data": {
      "text/plain": [
       "array([1000.,  925.,  850.,  700.,  600.,  500.,  400.,  300.,  250.,\n",
       "        200.,  150.,  100.,   70.,   50.,   30.,   20.,   10.],\n",
       "      dtype=float32)"
      ]
     },
     "execution_count": 5,
     "metadata": {},
     "output_type": "execute_result"
    }
   ],
   "source": [
    "nc_levels = nc_data['level'][:]\n",
    "nc_levels.data"
   ]
  },
  {
   "cell_type": "code",
   "execution_count": 6,
   "id": "f0b61c2e",
   "metadata": {},
   "outputs": [],
   "source": [
    "def get_indx_level(level, nc_levels):\n",
    "    return np.where(nc_levels == level)[0][0]"
   ]
  },
  {
   "cell_type": "code",
   "execution_count": 7,
   "id": "a13824db",
   "metadata": {},
   "outputs": [
    {
     "data": {
      "text/plain": [
       "False"
      ]
     },
     "execution_count": 7,
     "metadata": {},
     "output_type": "execute_result"
    }
   ],
   "source": [
    "1 in nc_levels"
   ]
  },
  {
   "cell_type": "code",
   "execution_count": 8,
   "id": "b7803580",
   "metadata": {},
   "outputs": [
    {
     "name": "stdout",
     "output_type": "stream",
     "text": [
      "0 1000.0\n",
      "1 925.0\n",
      "2 850.0\n",
      "3 700.0\n",
      "4 600.0\n",
      "5 500.0\n",
      "6 400.0\n",
      "7 300.0\n",
      "8 250.0\n",
      "9 200.0\n",
      "10 150.0\n",
      "11 100.0\n",
      "12 70.0\n",
      "13 50.0\n",
      "14 30.0\n",
      "15 20.0\n",
      "16 10.0\n"
     ]
    }
   ],
   "source": [
    "for i, level in enumerate(nc_levels):\n",
    "    print(i,level)"
   ]
  },
  {
   "cell_type": "code",
   "execution_count": 9,
   "id": "e4d909c6",
   "metadata": {},
   "outputs": [],
   "source": [
    "def update_message(grb, ncData):\n",
    "    temp_values = np.array(grb.values, copy = True)\n",
    "    temp_values[:] = ncData[:]\n",
    "    grb['values'] = temp_values[:]\n",
    "    return grb.tostring()"
   ]
  },
  {
   "cell_type": "code",
   "execution_count": 10,
   "id": "2702bd78",
   "metadata": {},
   "outputs": [],
   "source": [
    "def str2date(date:str):\n",
    "    return dt.datetime.strptime(date, '%Y-%m-%d %H:%M:%S')"
   ]
  },
  {
   "cell_type": "code",
   "execution_count": 11,
   "id": "2ea61565",
   "metadata": {},
   "outputs": [],
   "source": [
    "def utf2date(utfdate):\n",
    "    return np.array(nc.num2date(nc_data['time'][:], nc_data['time'].units))"
   ]
  },
  {
   "cell_type": "code",
   "execution_count": 12,
   "id": "55922c60",
   "metadata": {},
   "outputs": [],
   "source": [
    "def calculateIndxNetcdf(i_date:str, dates):\n",
    "    return np.argmin(np.abs(dates - str2date(i_date)))"
   ]
  },
  {
   "cell_type": "code",
   "execution_count": 13,
   "id": "42414d82",
   "metadata": {},
   "outputs": [],
   "source": [
    "dir_gribs = os.listdir('../../workspace/wrf-test/grib-data/')"
   ]
  },
  {
   "cell_type": "code",
   "execution_count": 14,
   "id": "56a0a5f0",
   "metadata": {},
   "outputs": [
    {
     "data": {
      "text/plain": [
       "['fnl_20220417_00_00.grib2',\n",
       " 'fnl_20220417_06_00.grib2',\n",
       " 'fnl_20220417_12_00.grib2',\n",
       " 'fnl_20220417_18_00.grib2',\n",
       " 'fnl_20220418_00_00.grib2',\n",
       " 'fnl_20220418_06_00.grib2',\n",
       " 'fnl_20220418_12_00.grib2',\n",
       " 'fnl_20220418_18_00.grib2',\n",
       " 'fnl_20220419_00_00.grib2',\n",
       " 'fnl_20220419_06_00.grib2',\n",
       " 'fnl_20220419_12_00.grib2',\n",
       " 'fnl_20220419_18_00.grib2',\n",
       " 'fnl_20220420_00_00.grib2',\n",
       " 'fnl_20220420_06_00.grib2',\n",
       " 'fnl_20220420_12_00.grib2',\n",
       " 'fnl_20220420_18_00.grib2',\n",
       " 'fnl_20220421_00_00.grib2',\n",
       " 'fnl_20220421_06_00.grib2',\n",
       " 'fnl_20220421_12_00.grib2',\n",
       " 'fnl_20220421_18_00.grib2',\n",
       " 'fnl_20220422_00_00.grib2',\n",
       " 'fnl_20220422_06_00.grib2',\n",
       " 'fnl_20220422_12_00.grib2',\n",
       " 'fnl_20220422_18_00.grib2',\n",
       " 'fnl_20220423_00_00.grib2',\n",
       " 'fnl_20220423_06_00.grib2',\n",
       " 'fnl_20220423_12_00.grib2',\n",
       " 'fnl_20220423_18_00.grib2',\n",
       " 'fnl_20220424_00_00.grib2',\n",
       " 'fnl_20220424_06_00.grib2',\n",
       " 'fnl_20220424_12_00.grib2',\n",
       " 'fnl_20220424_18_00.grib2',\n",
       " 'fnl_20220425_00_00.grib2',\n",
       " 'fnl_20220425_06_00.grib2',\n",
       " 'fnl_20220425_12_00.grib2',\n",
       " 'fnl_20220425_18_00.grib2',\n",
       " 'fnl_20220426_00_00.grib2',\n",
       " 'fnl_20220426_06_00.grib2',\n",
       " 'fnl_20220426_12_00.grib2',\n",
       " 'fnl_20220426_18_00.grib2',\n",
       " 'fnl_20220427_00_00.grib2',\n",
       " 'fnl_20220427_06_00.grib2',\n",
       " 'fnl_20220427_12_00.grib2',\n",
       " 'fnl_20220427_18_00.grib2',\n",
       " 'fnl_20220428_00_00.grib2',\n",
       " 'fnl_20220428_06_00.grib2',\n",
       " 'fnl_20220428_12_00.grib2',\n",
       " 'fnl_20220428_18_00.grib2',\n",
       " 'fnl_20220429_00_00.grib2',\n",
       " 'fnl_20220429_06_00.grib2',\n",
       " 'fnl_20220429_12_00.grib2',\n",
       " 'fnl_20220429_18_00.grib2',\n",
       " 'fnl_20220430_00_00.grib2',\n",
       " 'fnl_20220430_06_00.grib2',\n",
       " 'fnl_20220430_12_00.grib2',\n",
       " 'fnl_20220430_18_00.grib2']"
      ]
     },
     "execution_count": 14,
     "metadata": {},
     "output_type": "execute_result"
    }
   ],
   "source": [
    "dir_gribs"
   ]
  },
  {
   "cell_type": "markdown",
   "id": "50930b03",
   "metadata": {},
   "source": [
    "# grib2"
   ]
  },
  {
   "cell_type": "code",
   "execution_count": 15,
   "id": "9d4d4a72",
   "metadata": {},
   "outputs": [],
   "source": [
    "dates = [i[4:8]+'-'+i[8:10]+'-'+i[10:15].replace('_',' ')+':00:00' for i in dir_gribs]\n",
    "nc_dates = utf2date(nc_data['time'][:])"
   ]
  },
  {
   "cell_type": "code",
   "execution_count": 16,
   "id": "36df2a25",
   "metadata": {},
   "outputs": [],
   "source": [
    "def injection():    \n",
    "    for i, filepath in enumerate(glob.glob('../../workspace/wrf-test/grib-data/*.grib2')):\n",
    "        idx = calculateIndxNetcdf(dates[i], nc_dates)\n",
    "        grbs = pygrib.open(filepath)\n",
    "        messages = []\n",
    "        for grb in grbs:\n",
    "            if netcdf_var(grb.name) != None and grb.level in nc_levels and grb.typeOfLevel == 'isobaricInhPa':\n",
    "                messages.append(update_message(grb, nc_data[netcdf_var(grb.name)][idx, get_indx_level(grb.level, nc_levels)]))\n",
    "            else:\n",
    "                messages.append(grb.tostring())\n",
    "        grbs.close()\n",
    "        os.remove(filepath)\n",
    "        outgrb = open(filepath,'wb')\n",
    "#         outgrb = open(f'./../../workspace/wrfda-injected/{dir_gribs[i]}','wb')\n",
    "        for msg in messages:\n",
    "            outgrb.write(msg)\n",
    "        outgrb.close()\n",
    "        print(f'{dir_gribs[i]} injected and saved on: {filepath}')\n",
    "    print('Injection done!')"
   ]
  },
  {
   "cell_type": "code",
   "execution_count": 17,
   "id": "91466e02",
   "metadata": {},
   "outputs": [
    {
     "name": "stdout",
     "output_type": "stream",
     "text": [
      "fnl_20220417_00_00.grib2 injected and saved on: ../../workspace/wrf-test/grib-data/fnl_20220417_00_00.grib2\n",
      "fnl_20220417_06_00.grib2 injected and saved on: ../../workspace/wrf-test/grib-data/fnl_20220417_06_00.grib2\n",
      "fnl_20220417_12_00.grib2 injected and saved on: ../../workspace/wrf-test/grib-data/fnl_20220417_12_00.grib2\n",
      "fnl_20220417_18_00.grib2 injected and saved on: ../../workspace/wrf-test/grib-data/fnl_20220417_18_00.grib2\n",
      "fnl_20220418_00_00.grib2 injected and saved on: ../../workspace/wrf-test/grib-data/fnl_20220418_00_00.grib2\n",
      "fnl_20220418_06_00.grib2 injected and saved on: ../../workspace/wrf-test/grib-data/fnl_20220418_06_00.grib2\n",
      "fnl_20220418_12_00.grib2 injected and saved on: ../../workspace/wrf-test/grib-data/fnl_20220418_12_00.grib2\n",
      "fnl_20220418_18_00.grib2 injected and saved on: ../../workspace/wrf-test/grib-data/fnl_20220418_18_00.grib2\n",
      "fnl_20220419_00_00.grib2 injected and saved on: ../../workspace/wrf-test/grib-data/fnl_20220419_00_00.grib2\n",
      "fnl_20220419_06_00.grib2 injected and saved on: ../../workspace/wrf-test/grib-data/fnl_20220419_06_00.grib2\n",
      "fnl_20220419_12_00.grib2 injected and saved on: ../../workspace/wrf-test/grib-data/fnl_20220419_12_00.grib2\n",
      "fnl_20220419_18_00.grib2 injected and saved on: ../../workspace/wrf-test/grib-data/fnl_20220419_18_00.grib2\n",
      "fnl_20220420_00_00.grib2 injected and saved on: ../../workspace/wrf-test/grib-data/fnl_20220420_00_00.grib2\n",
      "fnl_20220420_06_00.grib2 injected and saved on: ../../workspace/wrf-test/grib-data/fnl_20220420_06_00.grib2\n",
      "fnl_20220420_12_00.grib2 injected and saved on: ../../workspace/wrf-test/grib-data/fnl_20220420_12_00.grib2\n",
      "fnl_20220420_18_00.grib2 injected and saved on: ../../workspace/wrf-test/grib-data/fnl_20220420_18_00.grib2\n",
      "fnl_20220421_00_00.grib2 injected and saved on: ../../workspace/wrf-test/grib-data/fnl_20220421_00_00.grib2\n",
      "fnl_20220421_06_00.grib2 injected and saved on: ../../workspace/wrf-test/grib-data/fnl_20220421_06_00.grib2\n",
      "fnl_20220421_12_00.grib2 injected and saved on: ../../workspace/wrf-test/grib-data/fnl_20220421_12_00.grib2\n",
      "fnl_20220421_18_00.grib2 injected and saved on: ../../workspace/wrf-test/grib-data/fnl_20220421_18_00.grib2\n",
      "fnl_20220422_00_00.grib2 injected and saved on: ../../workspace/wrf-test/grib-data/fnl_20220422_00_00.grib2\n",
      "fnl_20220422_06_00.grib2 injected and saved on: ../../workspace/wrf-test/grib-data/fnl_20220422_06_00.grib2\n",
      "fnl_20220422_12_00.grib2 injected and saved on: ../../workspace/wrf-test/grib-data/fnl_20220422_12_00.grib2\n",
      "fnl_20220422_18_00.grib2 injected and saved on: ../../workspace/wrf-test/grib-data/fnl_20220422_18_00.grib2\n",
      "fnl_20220423_00_00.grib2 injected and saved on: ../../workspace/wrf-test/grib-data/fnl_20220423_00_00.grib2\n",
      "fnl_20220423_06_00.grib2 injected and saved on: ../../workspace/wrf-test/grib-data/fnl_20220423_06_00.grib2\n",
      "fnl_20220423_12_00.grib2 injected and saved on: ../../workspace/wrf-test/grib-data/fnl_20220423_12_00.grib2\n",
      "fnl_20220423_18_00.grib2 injected and saved on: ../../workspace/wrf-test/grib-data/fnl_20220423_18_00.grib2\n",
      "fnl_20220424_00_00.grib2 injected and saved on: ../../workspace/wrf-test/grib-data/fnl_20220424_00_00.grib2\n",
      "fnl_20220424_06_00.grib2 injected and saved on: ../../workspace/wrf-test/grib-data/fnl_20220424_06_00.grib2\n",
      "fnl_20220424_12_00.grib2 injected and saved on: ../../workspace/wrf-test/grib-data/fnl_20220424_12_00.grib2\n",
      "fnl_20220424_18_00.grib2 injected and saved on: ../../workspace/wrf-test/grib-data/fnl_20220424_18_00.grib2\n",
      "fnl_20220425_00_00.grib2 injected and saved on: ../../workspace/wrf-test/grib-data/fnl_20220425_00_00.grib2\n",
      "fnl_20220425_06_00.grib2 injected and saved on: ../../workspace/wrf-test/grib-data/fnl_20220425_06_00.grib2\n",
      "fnl_20220425_12_00.grib2 injected and saved on: ../../workspace/wrf-test/grib-data/fnl_20220425_12_00.grib2\n",
      "fnl_20220425_18_00.grib2 injected and saved on: ../../workspace/wrf-test/grib-data/fnl_20220425_18_00.grib2\n",
      "fnl_20220426_00_00.grib2 injected and saved on: ../../workspace/wrf-test/grib-data/fnl_20220426_00_00.grib2\n",
      "fnl_20220426_06_00.grib2 injected and saved on: ../../workspace/wrf-test/grib-data/fnl_20220426_06_00.grib2\n",
      "fnl_20220426_12_00.grib2 injected and saved on: ../../workspace/wrf-test/grib-data/fnl_20220426_12_00.grib2\n",
      "fnl_20220426_18_00.grib2 injected and saved on: ../../workspace/wrf-test/grib-data/fnl_20220426_18_00.grib2\n",
      "fnl_20220427_00_00.grib2 injected and saved on: ../../workspace/wrf-test/grib-data/fnl_20220427_00_00.grib2\n",
      "fnl_20220427_06_00.grib2 injected and saved on: ../../workspace/wrf-test/grib-data/fnl_20220427_06_00.grib2\n",
      "fnl_20220427_12_00.grib2 injected and saved on: ../../workspace/wrf-test/grib-data/fnl_20220427_12_00.grib2\n",
      "fnl_20220427_18_00.grib2 injected and saved on: ../../workspace/wrf-test/grib-data/fnl_20220427_18_00.grib2\n",
      "fnl_20220428_00_00.grib2 injected and saved on: ../../workspace/wrf-test/grib-data/fnl_20220428_00_00.grib2\n",
      "fnl_20220428_06_00.grib2 injected and saved on: ../../workspace/wrf-test/grib-data/fnl_20220428_06_00.grib2\n",
      "fnl_20220428_12_00.grib2 injected and saved on: ../../workspace/wrf-test/grib-data/fnl_20220428_12_00.grib2\n",
      "fnl_20220428_18_00.grib2 injected and saved on: ../../workspace/wrf-test/grib-data/fnl_20220428_18_00.grib2\n",
      "fnl_20220429_00_00.grib2 injected and saved on: ../../workspace/wrf-test/grib-data/fnl_20220429_00_00.grib2\n",
      "fnl_20220429_06_00.grib2 injected and saved on: ../../workspace/wrf-test/grib-data/fnl_20220429_06_00.grib2\n",
      "fnl_20220429_12_00.grib2 injected and saved on: ../../workspace/wrf-test/grib-data/fnl_20220429_12_00.grib2\n",
      "fnl_20220429_18_00.grib2 injected and saved on: ../../workspace/wrf-test/grib-data/fnl_20220429_18_00.grib2\n",
      "fnl_20220430_00_00.grib2 injected and saved on: ../../workspace/wrf-test/grib-data/fnl_20220430_00_00.grib2\n",
      "fnl_20220430_06_00.grib2 injected and saved on: ../../workspace/wrf-test/grib-data/fnl_20220430_06_00.grib2\n",
      "fnl_20220430_12_00.grib2 injected and saved on: ../../workspace/wrf-test/grib-data/fnl_20220430_12_00.grib2\n",
      "fnl_20220430_18_00.grib2 injected and saved on: ../../workspace/wrf-test/grib-data/fnl_20220430_18_00.grib2\n",
      "Injection done!\n"
     ]
    }
   ],
   "source": [
    "injection()"
   ]
  },
  {
   "cell_type": "code",
   "execution_count": null,
   "id": "3e062134",
   "metadata": {},
   "outputs": [],
   "source": []
  }
 ],
 "metadata": {
  "kernelspec": {
   "display_name": "Python 3 (ipykernel)",
   "language": "python",
   "name": "python3"
  },
  "language_info": {
   "codemirror_mode": {
    "name": "ipython",
    "version": 3
   },
   "file_extension": ".py",
   "mimetype": "text/x-python",
   "name": "python",
   "nbconvert_exporter": "python",
   "pygments_lexer": "ipython3",
   "version": "3.10.4"
  }
 },
 "nbformat": 4,
 "nbformat_minor": 5
}
