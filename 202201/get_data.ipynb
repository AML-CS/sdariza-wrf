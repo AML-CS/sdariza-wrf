{
 "cells": [
  {
   "cell_type": "code",
   "execution_count": 15,
   "metadata": {},
   "outputs": [],
   "source": [
    "import netCDF4 as nc"
   ]
  },
  {
   "cell_type": "code",
   "execution_count": 19,
   "metadata": {},
   "outputs": [
    {
     "name": "stdout",
     "output_type": "stream",
     "text": [
      "--2022-03-20 23:21:31--  https://downloads.psl.noaa.gov/Datasets/ncep.reanalysis2/pressure/uwnd.2022.nc\n",
      "Resolving downloads.psl.noaa.gov (downloads.psl.noaa.gov)... 140.172.38.86\n",
      "Connecting to downloads.psl.noaa.gov (downloads.psl.noaa.gov)|140.172.38.86|:443... connected.\n",
      "HTTP request sent, awaiting response... 200 OK\n",
      "Length: 91900082 (88M) [application/x-netcdf]\n",
      "Saving to: ‘uwnd.2022.nc’\n",
      "\n",
      "100%[======================================>] 91,900,082  19.1MB/s   in 5.6s   \n",
      "\n",
      "2022-03-20 23:21:37 (15.7 MB/s) - ‘uwnd.2022.nc’ saved [91900082/91900082]\n",
      "\n",
      "--2022-03-20 23:21:37--  https://downloads.psl.noaa.gov/Datasets/ncep.reanalysis2/pressure/vwnd.2022.nc\n",
      "Resolving downloads.psl.noaa.gov (downloads.psl.noaa.gov)... 140.172.38.86\n",
      "Connecting to downloads.psl.noaa.gov (downloads.psl.noaa.gov)|140.172.38.86|:443... connected.\n",
      "HTTP request sent, awaiting response... 200 OK\n",
      "Length: 93735946 (89M) [application/x-netcdf]\n",
      "Saving to: ‘vwnd.2022.nc’\n",
      "\n",
      "100%[======================================>] 93,735,946  17.8MB/s   in 6.0s   \n",
      "\n",
      "2022-03-20 23:21:44 (14.9 MB/s) - ‘vwnd.2022.nc’ saved [93735946/93735946]\n",
      "\n"
     ]
    }
   ],
   "source": [
    "!wget 'https://downloads.psl.noaa.gov/Datasets/ncep.reanalysis2/pressure/air.2022.nc'\n",
    "!wget 'https://downloads.psl.noaa.gov/Datasets/ncep.reanalysis2/pressure/omega.2022.nc'\n",
    "!wget 'https://downloads.psl.noaa.gov/Datasets/ncep.reanalysis2/pressure/uwnd.2022.nc'\n",
    "!wget 'https://downloads.psl.noaa.gov/Datasets/ncep.reanalysis2/pressure/vwnd.2022.nc'\n"
   ]
  },
  {
   "cell_type": "code",
   "execution_count": 17,
   "metadata": {},
   "outputs": [],
   "source": [
    "ds = nc.Dataset('air.2022.nc','r')"
   ]
  },
  {
   "cell_type": "code",
   "execution_count": 18,
   "metadata": {},
   "outputs": [
    {
     "data": {
      "text/plain": [
       "{'level': <class 'netCDF4._netCDF4.Variable'>\n",
       " float32 level(level)\n",
       "     units: millibar\n",
       "     actual_range: [1000.   10.]\n",
       "     long_name: Level\n",
       "     positive: down\n",
       "     GRIB_id: 100\n",
       "     GRIB_name: hPa\n",
       "     axis: Z\n",
       "     coordinate_defines: point\n",
       " unlimited dimensions: \n",
       " current shape = (17,)\n",
       " filling on, default _FillValue of 9.969209968386869e+36 used,\n",
       " 'lat': <class 'netCDF4._netCDF4.Variable'>\n",
       " float32 lat(lat)\n",
       "     units: degrees_north\n",
       "     actual_range: [ 90. -90.]\n",
       "     long_name: Latitude\n",
       "     standard_name: latitude\n",
       "     axis: Y\n",
       "     coordinate_defines: point\n",
       " unlimited dimensions: \n",
       " current shape = (73,)\n",
       " filling on, default _FillValue of 9.969209968386869e+36 used,\n",
       " 'lon': <class 'netCDF4._netCDF4.Variable'>\n",
       " float32 lon(lon)\n",
       "     units: degrees_east\n",
       "     long_name: Longitude\n",
       "     actual_range: [  0.  357.5]\n",
       "     standard_name: longitude\n",
       "     axis: X\n",
       "     coordinate_defines: point\n",
       " unlimited dimensions: \n",
       " current shape = (144,)\n",
       " filling on, default _FillValue of 9.969209968386869e+36 used,\n",
       " 'time': <class 'netCDF4._netCDF4.Variable'>\n",
       " float64 time(time)\n",
       "     units: hours since 1800-1-1 00:00:0.0\n",
       "     long_name: Time\n",
       "     delta_t: 0000-00-00 06:00:00\n",
       "     standard_name: time\n",
       "     axis: T\n",
       "     coordinate_defines: point\n",
       "     actual_range: [1946016. 1947426.]\n",
       " unlimited dimensions: time\n",
       " current shape = (236,)\n",
       " filling on, default _FillValue of 9.969209968386869e+36 used,\n",
       " 'air': <class 'netCDF4._netCDF4.Variable'>\n",
       " float32 air(time, level, lat, lon)\n",
       "     long_name: 6-hourly Air Temperature on Pressure Levels\n",
       "     units: degK\n",
       "     precision: 2\n",
       "     least_significant_digit: 1\n",
       "     GRIB_id: 11\n",
       "     GRIB_name: TMP\n",
       "     var_desc: Air temperature\n",
       "     dataset: NCEP/DOE AMIP-II Reanalysis (Reanalysis-2)\n",
       "     level_desc: Pressure Levels\n",
       "     statistic: Individual Obs\n",
       "     parent_stat: Other\n",
       "     standard_name: air_temperature\n",
       "     missing_value: -9.96921e+36\n",
       "     valid_range: [137.5 362.5]\n",
       "     actual_range: [184.6 320.3]\n",
       " unlimited dimensions: time\n",
       " current shape = (236, 17, 73, 144)\n",
       " filling on, default _FillValue of 9.969209968386869e+36 used}"
      ]
     },
     "execution_count": 18,
     "metadata": {},
     "output_type": "execute_result"
    }
   ],
   "source": [
    "ds.variables"
   ]
  },
  {
   "cell_type": "code",
   "execution_count": null,
   "metadata": {},
   "outputs": [],
   "source": []
  }
 ],
 "metadata": {
  "kernelspec": {
   "display_name": "Python 3 (ipykernel)",
   "language": "python",
   "name": "python3"
  },
  "language_info": {
   "codemirror_mode": {
    "name": "ipython",
    "version": 3
   },
   "file_extension": ".py",
   "mimetype": "text/x-python",
   "name": "python",
   "nbconvert_exporter": "python",
   "pygments_lexer": "ipython3",
   "version": "3.9.7"
  }
 },
 "nbformat": 4,
 "nbformat_minor": 4
}
