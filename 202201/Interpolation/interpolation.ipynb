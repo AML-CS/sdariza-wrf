{
 "cells": [
  {
   "cell_type": "markdown",
   "id": "9b20877f",
   "metadata": {},
   "source": [
    "# This is a preview code!"
   ]
  },
  {
   "cell_type": "code",
   "execution_count": 2,
   "id": "bfa70b66",
   "metadata": {},
   "outputs": [],
   "source": [
    "import xarray as xr\n",
    "import pygrib\n",
    "import os"
   ]
  },
  {
   "cell_type": "code",
   "execution_count": 5,
   "id": "dc44d9ca",
   "metadata": {},
   "outputs": [
    {
     "name": "stdout",
     "output_type": "stream",
     "text": [
      "air.2022.nc  uwnd.2022.nc  vwnd.2022.nc\r\n"
     ]
    }
   ],
   "source": [
    "!ls data"
   ]
  },
  {
   "cell_type": "code",
   "execution_count": null,
   "id": "5d1c8cc5",
   "metadata": {},
   "outputs": [],
   "source": [
    "def dataInjection(source, target):\n",
    "#     dirPaths = '/work/syseng/users/sdariza/workspace/grib-data'\n",
    "    files = os.listdir(target)\n",
    "    grbs = pygrib.open(target+'/'+files[0])\n",
    "    grb = grbs.select(name='Temperature')\n",
    "    lat,lon = grb.latlons()\n",
    "    dataInterpolated, levelsNC, dates = interpolation(source, lat, lon)\n",
    "    for f in files:\n",
    "        for idx_time, i in enumerate(dates):\n",
    "            if i in f:\n",
    "                data = pygrib.open(dirPaths+'/'+f)\n",
    "                grb = data.select(name='Temperature')\n",
    "                for g in grb:\n",
    "                    if g.level in levelsNC:\n",
    "                        idx_level = np.where(levelsNC == g.level)\n",
    "                        gridValuesLevelTime = dataInterpolated[idx_time,idx_level,:,:]\n",
    "                        for i, value in enumerate(g.values):\n",
    "                            for j in range(len(value)):\n",
    "                                if gridValuesLevelTime[i][j] != 'nan':\n",
    "                                    g.values[i][j] = gridValuesLevelTime[i][j]\n",
    "\n",
    "                    \n",
    "\n",
    "def interpolation(path, new_lat, new_lon):\n",
    "    data = xr.open_dataset(path)\n",
    "    dsi = data.interp(lat=new_lat, lon=new_lon, method='cubic')\n",
    "    dates = ds.variables['time'].values\n",
    "    datesFiltered = [str(i)[:13].replace('-','').replace('T','_') for i in dates]\n",
    "    return dsi.to_array().values[0], data.variables['level'].values, datesFiltered\n",
    "        "
   ]
  }
 ],
 "metadata": {
  "kernelspec": {
   "display_name": "Python 3 (ipykernel)",
   "language": "python",
   "name": "python3"
  },
  "language_info": {
   "codemirror_mode": {
    "name": "ipython",
    "version": 3
   },
   "file_extension": ".py",
   "mimetype": "text/x-python",
   "name": "python",
   "nbconvert_exporter": "python",
   "pygments_lexer": "ipython3",
   "version": "3.9.7"
  }
 },
 "nbformat": 4,
 "nbformat_minor": 5
}
